{
 "cells": [
  {
   "cell_type": "code",
   "execution_count": 9,
   "metadata": {},
   "outputs": [],
   "source": [
    "class Heap: #Min-heap\n",
    "    def __init__(self):\n",
    "        self.heap = [0]\n",
    "\n",
    "    def push(self, val):\n",
    "        self.heap.append(val) # append to leftmost position at bottom level\n",
    "        i = len(self.heap) - 1\n",
    "\n",
    "        # bubble up\n",
    "        while i > 1 and self.heap[i] < self.heap[i // 2]: #if parent is > than child \n",
    "            self.heap[i], self.heap[i // 2] = self.heap[i // 2], self.heap[i] #swap\n",
    "            i = i // 2 # move to parent, repeat\n",
    "\n",
    "    def pop(self):\n",
    "        if len(self.heap) == 1:\n",
    "            return None\n",
    "        if len(self.heap) == 2:\n",
    "            return self.heap.pop()\n",
    "\n",
    "        res = self.heap[1]   \n",
    "        self.heap[1] = self.heap.pop() # Move last value to root\n",
    "        i = 1\n",
    "        # bubble down\n",
    "        while 2 * i < len(self.heap): # while there is left child\n",
    "            if (2 * i + 1 < len(self.heap) and  #if there is right child\n",
    "            self.heap[2 * i + 1] < self.heap[2 * i] and #if left child > right child\n",
    "            self.heap[i] > self.heap[2 * i + 1]):      # if node > right child\n",
    "                self.heap[i], self.heap[2 * i + 1] = self.heap[2 * i + 1], self.heap[i] # Swap right child and node\n",
    "                i = 2 * i + 1 # go to the right child\n",
    "            elif self.heap[i] > self.heap[2 * i]: # if node > left child\n",
    "                self.heap[i], self.heap[2 * i] = self.heap[2 * i], self.heap[i]  # Swap left child\n",
    "                i = 2 * i # go to the left child\n",
    "            else:\n",
    "                break\n",
    "        return res\n",
    "\n",
    "    def top(self):\n",
    "        if len(self.heap) > 1:\n",
    "            return self.heap[1]\n",
    "        return None\n",
    "\n",
    "    def heapify(self, arr):\n",
    "        # arr.append(arr[0]) # 0-th position is moved to the end\n",
    "        self.heap = [0] + arr\n",
    "        cur = (len(self.heap) - 1) // 2 # get parent of last node\n",
    "        while cur > 0: # bubble down each element\n",
    "            i = cur\n",
    "            while 2 * i < len(self.heap): # while left child exists\n",
    "                if (2 * i + 1 < len(self.heap) and \n",
    "                self.heap[2 * i + 1] < self.heap[2 * i] and \n",
    "                self.heap[i] > self.heap[2 * i + 1]):\n",
    "                    # Swap right child\n",
    "                    tmp = self.heap[i]\n",
    "                    self.heap[i] = self.heap[2 * i + 1]\n",
    "                    self.heap[2 * i + 1] = tmp\n",
    "                    i = 2 * i + 1\n",
    "                elif self.heap[i] > self.heap[2 * i]:\n",
    "                    # Swap left child\n",
    "                    tmp = self.heap[i]\n",
    "                    self.heap[i] = self.heap[2 * i]\n",
    "                    self.heap[2 * i] = tmp\n",
    "                    i = 2 * i\n",
    "                else:\n",
    "                    break\n",
    "            cur -= 1"
   ]
  },
  {
   "cell_type": "code",
   "execution_count": 10,
   "metadata": {},
   "outputs": [],
   "source": [
    "heap = Heap()"
   ]
  },
  {
   "cell_type": "code",
   "execution_count": 11,
   "metadata": {},
   "outputs": [],
   "source": [
    "heap.heapify([4, 5, 8, 2])"
   ]
  },
  {
   "cell_type": "code",
   "execution_count": 13,
   "metadata": {},
   "outputs": [
    {
     "data": {
      "text/plain": [
       "[0, 2, 4, 8, 5]"
      ]
     },
     "execution_count": 13,
     "metadata": {},
     "output_type": "execute_result"
    }
   ],
   "source": [
    "heap.heap"
   ]
  }
 ],
 "metadata": {
  "kernelspec": {
   "display_name": "Python 3",
   "language": "python",
   "name": "python3"
  },
  "language_info": {
   "codemirror_mode": {
    "name": "ipython",
    "version": 3
   },
   "file_extension": ".py",
   "mimetype": "text/x-python",
   "name": "python",
   "nbconvert_exporter": "python",
   "pygments_lexer": "ipython3",
   "version": "3.9.13"
  },
  "orig_nbformat": 4
 },
 "nbformat": 4,
 "nbformat_minor": 2
}
